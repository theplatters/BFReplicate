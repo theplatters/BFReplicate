{
 "cells": [
  {
   "cell_type": "markdown",
   "id": "d3beba15",
   "metadata": {},
   "source": [
    "# BF Replicate\n",
    "\n",
    "## BF 2019"
   ]
  },
  {
   "cell_type": "markdown",
   "id": "dcee77d7",
   "metadata": {},
   "source": [
    "### Requirements and Imports"
   ]
  },
  {
   "cell_type": "code",
   "execution_count": 20,
   "id": "11be9998",
   "metadata": {},
   "outputs": [],
   "source": [
    "# hier machen wir die packages\n",
    "using MAT, LinearAlgebra"
   ]
  },
  {
   "cell_type": "code",
   "execution_count": 18,
   "id": "720c8f42",
   "metadata": {},
   "outputs": [
    {
     "data": {
      "text/plain": [
       "Dict{String, Any} with 15 entries:\n",
       "  \"IO\"      => [49310.3 10115.3 … 0.361 119.182; 2271.69 70.382 … 4.538 59.148;…\n",
       "  \"price\"   => [1960.0 1.0 … 1.0 0.207; 1961.0 1.0 … 1.0 0.201; … ; 2004.0 88.0…\n",
       "  \"Omega\"   => [0.396495 0.0813353 … 2.90273e-6 0.00095832; 0.273678 0.00847914…\n",
       "  \"data\"    => [1960.0 1.0 … 0.0 5.121; 1961.0 1.0 … 0.0 5.286; … ; 2004.0 88.0…\n",
       "  \"labor\"   => [9134.17 9536.57 … 57876.5 62527.4; 705.587 669.908 … 33990.2 31…\n",
       "  \"mu\"      => [0.013261 0.00763625 … -0.00252646 -0.00449715]\n",
       "  \"aggtfp\"  => [0.0 0.00965473 … 0.0233477 0.0126596]\n",
       "  \"alpha\"   => [0.359221; 0.554323; … ; 0.543883; 0.583141;;]\n",
       "  \"grossy\"  => [43964.0 45619.4 … 3.45989e5 3.51182e5; 1717.01 1691.13 … 86174.…\n",
       "  \"stfp\"    => [0.0125084 -0.0119223 … 0.00447782 0.0198118; 0.0798894 0.038949…\n",
       "  \"beta\"    => [0.0164388; 0.00111498; … ; 0.00327676; 0.00797866;;]\n",
       "  \"agggdp\"  => [0.0 0.0198382 … 0.0422141 0.0334435]\n",
       "  \"Sigma\"   => [0.00170006 0.00031441 … -0.000308757 5.66341e-5; 0.00031441 0.0…\n",
       "  \"capital\" => [6726.24 7369.37 … 86720.6 92941.9; 315.347 320.46 … 21080.3 256…\n",
       "  \"vadd\"    => [15860.4 16905.9 … 1.44597e5 1.55469e5; 1020.93 990.368 … 55070.…"
      ]
     },
     "metadata": {},
     "output_type": "display_data"
    }
   ],
   "source": [
    "#hier machen wir die importe\n",
    "original_IOdata = matread(\"data/us80dbasedata.mat\")\n",
    "shortcut_IOdata = matread(\"data/simulationData.mat\")"
   ]
  },
  {
   "cell_type": "markdown",
   "id": "1c5ad28a",
   "metadata": {},
   "source": [
    "### From rawdata to shortcut\n",
    "\n",
    "88 sectors for 46 years"
   ]
  },
  {
   "cell_type": "code",
   "execution_count": 17,
   "id": "659fd8c1",
   "metadata": {},
   "outputs": [
    {
     "data": {
      "text/plain": [
       "4048×94 Matrix{Float64}:\n",
       " 1960.0   1.0   43964.0         6726.24  …  0.0  0.0  0.0  12.665  0.0  5.121\n",
       " 1961.0   1.0   45619.4         7369.37     0.0  0.0  0.0  13.938  0.0  5.286\n",
       " 1962.0   1.0   47318.2         7354.75     0.0  0.0  0.0  15.162  0.0  5.358\n",
       " 1963.0   1.0   48645.6         7368.55     0.0  0.0  0.0  15.933  0.0  5.42\n",
       " 1964.0   1.0   48301.2         6126.3      0.0  0.0  0.0  15.934  0.0  5.223\n",
       " 1965.0   1.0   51858.9         7678.27  …  0.0  0.0  0.0  17.523  0.0  5.436\n",
       " 1966.0   1.0   56540.5         8731.54     0.0  0.0  0.0  18.943  0.0  5.585\n",
       " 1967.0   1.0   55906.8         8045.3      0.0  0.0  0.0  19.578  0.0  5.566\n",
       " 1968.0   1.0   57439.1         7963.88     0.0  0.0  0.0  20.462  0.0  5.569\n",
       " 1969.0   1.0   65176.4        11547.8      0.0  0.0  0.0  23.133  0.0  5.873\n",
       "    ⋮                                    ⋱            ⋮                 \n",
       " 1997.0  88.0       1.7865e5   92734.3      0.0  0.0  0.0   0.0    0.0  0.0\n",
       " 1998.0  88.0       1.75659e5  90225.2   …  0.0  0.0  0.0   0.0    0.0  0.0\n",
       " 1999.0  88.0       1.65786e5  78658.4      0.0  0.0  0.0   0.0    0.0  0.0\n",
       " 2000.0  88.0       1.74082e5  82692.6      0.0  0.0  0.0   0.0    0.0  0.0\n",
       " 2001.0  88.0  173753.0        77524.0      0.0  0.0  0.0   0.0    0.0  0.0\n",
       " 2002.0  88.0       1.93733e5  83320.2      0.0  0.0  0.0   0.0    0.0  0.0\n",
       " 2003.0  88.0  213007.0        85198.0   …  0.0  0.0  0.0   0.0    0.0  0.0\n",
       " 2004.0  88.0       2.24149e5  85688.2      0.0  0.0  0.0   0.0    0.0  0.0\n",
       " 2005.0  88.0       2.37977e5  88236.1      0.0  0.0  0.0   0.0    0.0  0.0"
      ]
     },
     "metadata": {},
     "output_type": "display_data"
    }
   ],
   "source": [
    "original_IOdata[\"data\"]"
   ]
  },
  {
   "cell_type": "code",
   "execution_count": 9,
   "id": "c1a48aa8",
   "metadata": {},
   "outputs": [
    {
     "data": {
      "text/plain": [
       "88.0"
      ]
     },
     "metadata": {},
     "output_type": "display_data"
    }
   ],
   "source": [
    "4048/46"
   ]
  },
  {
   "cell_type": "markdown",
   "id": "077a3f67",
   "metadata": {},
   "source": [
    "### Processing aggregated data"
   ]
  },
  {
   "cell_type": "code",
   "execution_count": null,
   "id": "b5f42df4",
   "metadata": {},
   "outputs": [],
   "source": [
    "# option 1\n",
    "alpha = shortcut_IOdata[\"alpha\"]\n",
    "beta = shortcut_IOdata[\"beta\"]\n",
    "Omega = shortcut_IOdata[\"Omega\"]\n",
    "\n",
    "# option 2\n",
    "\n",
    "domar_weights = λ = (inv(I -Diagonal(vec(1 .- alpha))) * Omega)' * beta;"
   ]
  },
  {
   "cell_type": "code",
   "execution_count": null,
   "id": "c384bd72",
   "metadata": {},
   "outputs": [],
   "source": []
  }
 ],
 "metadata": {
  "kernelspec": {
   "display_name": "Julia 1.11.6",
   "language": "julia",
   "name": "julia-1.11"
  },
  "language_info": {
   "file_extension": ".jl",
   "mimetype": "application/julia",
   "name": "julia",
   "version": "1.11.6"
  }
 },
 "nbformat": 4,
 "nbformat_minor": 5
}
